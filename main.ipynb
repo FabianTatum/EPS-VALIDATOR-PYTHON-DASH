{
 "cells": [
  {
   "cell_type": "code",
   "execution_count": 2,
   "metadata": {},
   "outputs": [],
   "source": [
    "import pandas as pd\n",
    "import numpy as np\n",
    "from extract import extract_xlsx"
   ]
  },
  {
   "cell_type": "code",
   "execution_count": 3,
   "metadata": {},
   "outputs": [],
   "source": [
    "files_path = './in/*.xlsx'"
   ]
  },
  {
   "cell_type": "code",
   "execution_count": null,
   "metadata": {},
   "outputs": [],
   "source": [
    "# TODO: Extracción de datos\n",
    "\n",
    "df = extract_xlsx(files_path)"
   ]
  },
  {
   "cell_type": "markdown",
   "metadata": {},
   "source": [
    "---------------------------------------------"
   ]
  },
  {
   "cell_type": "code",
   "execution_count": 174,
   "metadata": {},
   "outputs": [
    {
     "name": "stderr",
     "output_type": "stream",
     "text": [
      "C:\\Users\\Personal\\AppData\\Local\\Temp\\ipykernel_3496\\852513943.py:1: DtypeWarning: Columns (4,95,98,102,109,121) have mixed types. Specify dtype option on import or set low_memory=False.\n",
      "  df = pd.read_csv('./in/total_rows.csv')\n"
     ]
    }
   ],
   "source": [
    "df = pd.read_csv('./in/total_rows.csv')"
   ]
  },
  {
   "cell_type": "code",
   "execution_count": 175,
   "metadata": {},
   "outputs": [],
   "source": [
    "df_columns = df.columns"
   ]
  },
  {
   "cell_type": "code",
   "execution_count": 176,
   "metadata": {},
   "outputs": [
    {
     "data": {
      "text/html": [
       "<div>\n",
       "<style scoped>\n",
       "    .dataframe tbody tr th:only-of-type {\n",
       "        vertical-align: middle;\n",
       "    }\n",
       "\n",
       "    .dataframe tbody tr th {\n",
       "        vertical-align: top;\n",
       "    }\n",
       "\n",
       "    .dataframe thead th {\n",
       "        text-align: right;\n",
       "    }\n",
       "</style>\n",
       "<table border=\"1\" class=\"dataframe\">\n",
       "  <thead>\n",
       "    <tr style=\"text-align: right;\">\n",
       "      <th></th>\n",
       "      <th>Tipo de registro</th>\n",
       "      <th>Consecutivo de registro</th>\n",
       "      <th>Código de habilitación IPS primaria</th>\n",
       "      <th>Tipodeidentificacióndelusuario</th>\n",
       "      <th>Númerodeidentificacióndelusuario</th>\n",
       "      <th>Primerapellidodelusuario</th>\n",
       "      <th>Segundoapellidodelusuario</th>\n",
       "      <th>Primernombredelusuario</th>\n",
       "      <th>Segundonombredelusuario</th>\n",
       "      <th>FechadeNacimiento</th>\n",
       "    </tr>\n",
       "  </thead>\n",
       "  <tbody>\n",
       "    <tr>\n",
       "      <th>0</th>\n",
       "      <td>2.0</td>\n",
       "      <td>42525.0</td>\n",
       "      <td>5.000101e+11</td>\n",
       "      <td>SC</td>\n",
       "      <td>9262947.0</td>\n",
       "      <td>HEREDIA</td>\n",
       "      <td>VILLALONGA</td>\n",
       "      <td>YULIANA</td>\n",
       "      <td>NONE</td>\n",
       "      <td>1983-05-07 00:00:00</td>\n",
       "    </tr>\n",
       "    <tr>\n",
       "      <th>1</th>\n",
       "      <td>2.0</td>\n",
       "      <td>37883.0</td>\n",
       "      <td>5.000101e+11</td>\n",
       "      <td>SV</td>\n",
       "      <td>9262947.0</td>\n",
       "      <td>HEREDIA</td>\n",
       "      <td>VILLALONGA</td>\n",
       "      <td>YULIANA</td>\n",
       "      <td>NONE</td>\n",
       "      <td>1983-05-07 00:00:00</td>\n",
       "    </tr>\n",
       "    <tr>\n",
       "      <th>2</th>\n",
       "      <td>2.0</td>\n",
       "      <td>42527.0</td>\n",
       "      <td>5.000101e+11</td>\n",
       "      <td>SC</td>\n",
       "      <td>9498899.0</td>\n",
       "      <td>MONTILLA</td>\n",
       "      <td>MORENO</td>\n",
       "      <td>MARIA</td>\n",
       "      <td>DELIA</td>\n",
       "      <td>1965-10-07 00:00:00</td>\n",
       "    </tr>\n",
       "    <tr>\n",
       "      <th>3</th>\n",
       "      <td>2.0</td>\n",
       "      <td>34573.0</td>\n",
       "      <td>5.000101e+11</td>\n",
       "      <td>SV</td>\n",
       "      <td>9498899.0</td>\n",
       "      <td>MONTILLA</td>\n",
       "      <td>MORENO</td>\n",
       "      <td>MARIA</td>\n",
       "      <td>DELIA</td>\n",
       "      <td>1965-10-07 00:00:00</td>\n",
       "    </tr>\n",
       "    <tr>\n",
       "      <th>4</th>\n",
       "      <td>2.0</td>\n",
       "      <td>46830.0</td>\n",
       "      <td>5.031301e+11</td>\n",
       "      <td>PE</td>\n",
       "      <td>6071230.0</td>\n",
       "      <td>GUTIERREZ</td>\n",
       "      <td>PEREZ</td>\n",
       "      <td>YUSNEILA</td>\n",
       "      <td>MARIA</td>\n",
       "      <td>2003-04-29 00:00:00</td>\n",
       "    </tr>\n",
       "    <tr>\n",
       "      <th>5</th>\n",
       "      <td>2.0</td>\n",
       "      <td>15968.0</td>\n",
       "      <td>5.031301e+11</td>\n",
       "      <td>PT</td>\n",
       "      <td>6071230.0</td>\n",
       "      <td>GUTIERREZ</td>\n",
       "      <td>PEREZ</td>\n",
       "      <td>YUSNEILA</td>\n",
       "      <td>MARIA</td>\n",
       "      <td>2003-04-29 00:00:00</td>\n",
       "    </tr>\n",
       "    <tr>\n",
       "      <th>6</th>\n",
       "      <td>2.0</td>\n",
       "      <td>43685.0</td>\n",
       "      <td>5.000101e+11</td>\n",
       "      <td>AS</td>\n",
       "      <td>28411269.0</td>\n",
       "      <td>ROBLES</td>\n",
       "      <td>ARDILA</td>\n",
       "      <td>HERLINDA</td>\n",
       "      <td>NONE</td>\n",
       "      <td>1970-09-05 00:00:00</td>\n",
       "    </tr>\n",
       "    <tr>\n",
       "      <th>7</th>\n",
       "      <td>2.0</td>\n",
       "      <td>35833.0</td>\n",
       "      <td>5.000101e+11</td>\n",
       "      <td>CC</td>\n",
       "      <td>28411269.0</td>\n",
       "      <td>ROBLES</td>\n",
       "      <td>ARDILA</td>\n",
       "      <td>HERLINDA</td>\n",
       "      <td>NONE</td>\n",
       "      <td>1970-09-05 00:00:00</td>\n",
       "    </tr>\n",
       "    <tr>\n",
       "      <th>8</th>\n",
       "      <td>2.0</td>\n",
       "      <td>47220.0</td>\n",
       "      <td>5.000101e+11</td>\n",
       "      <td>AS</td>\n",
       "      <td>90397372.0</td>\n",
       "      <td>ARENAS</td>\n",
       "      <td>GUALTEROS</td>\n",
       "      <td>ALBA</td>\n",
       "      <td>NUBIA</td>\n",
       "      <td>1970-12-15 00:00:00</td>\n",
       "    </tr>\n",
       "    <tr>\n",
       "      <th>9</th>\n",
       "      <td>2.0</td>\n",
       "      <td>12082.0</td>\n",
       "      <td>5.000101e+11</td>\n",
       "      <td>CC</td>\n",
       "      <td>90397372.0</td>\n",
       "      <td>ARENAS</td>\n",
       "      <td>GUALTEROS</td>\n",
       "      <td>ALBA</td>\n",
       "      <td>NUBIA</td>\n",
       "      <td>1970-12-15 00:00:00</td>\n",
       "    </tr>\n",
       "  </tbody>\n",
       "</table>\n",
       "</div>"
      ],
      "text/plain": [
       "   Tipo de registro  Consecutivo de registro  \\\n",
       "0               2.0                  42525.0   \n",
       "1               2.0                  37883.0   \n",
       "2               2.0                  42527.0   \n",
       "3               2.0                  34573.0   \n",
       "4               2.0                  46830.0   \n",
       "5               2.0                  15968.0   \n",
       "6               2.0                  43685.0   \n",
       "7               2.0                  35833.0   \n",
       "8               2.0                  47220.0   \n",
       "9               2.0                  12082.0   \n",
       "\n",
       "   Código de habilitación IPS primaria Tipodeidentificacióndelusuario  \\\n",
       "0                         5.000101e+11                             SC   \n",
       "1                         5.000101e+11                             SV   \n",
       "2                         5.000101e+11                             SC   \n",
       "3                         5.000101e+11                             SV   \n",
       "4                         5.031301e+11                             PE   \n",
       "5                         5.031301e+11                             PT   \n",
       "6                         5.000101e+11                             AS   \n",
       "7                         5.000101e+11                             CC   \n",
       "8                         5.000101e+11                             AS   \n",
       "9                         5.000101e+11                             CC   \n",
       "\n",
       "  Númerodeidentificacióndelusuario Primerapellidodelusuario  \\\n",
       "0                        9262947.0                  HEREDIA   \n",
       "1                        9262947.0                  HEREDIA   \n",
       "2                        9498899.0                 MONTILLA   \n",
       "3                        9498899.0                 MONTILLA   \n",
       "4                        6071230.0                GUTIERREZ   \n",
       "5                        6071230.0                GUTIERREZ   \n",
       "6                       28411269.0                   ROBLES   \n",
       "7                       28411269.0                   ROBLES   \n",
       "8                       90397372.0                   ARENAS   \n",
       "9                       90397372.0                   ARENAS   \n",
       "\n",
       "  Segundoapellidodelusuario Primernombredelusuario Segundonombredelusuario  \\\n",
       "0                VILLALONGA                YULIANA                    NONE   \n",
       "1                VILLALONGA                YULIANA                    NONE   \n",
       "2                    MORENO                  MARIA                   DELIA   \n",
       "3                    MORENO                  MARIA                   DELIA   \n",
       "4                     PEREZ               YUSNEILA                   MARIA   \n",
       "5                     PEREZ               YUSNEILA                   MARIA   \n",
       "6                    ARDILA               HERLINDA                    NONE   \n",
       "7                    ARDILA               HERLINDA                    NONE   \n",
       "8                 GUALTEROS                   ALBA                   NUBIA   \n",
       "9                 GUALTEROS                   ALBA                   NUBIA   \n",
       "\n",
       "     FechadeNacimiento  \n",
       "0  1983-05-07 00:00:00  \n",
       "1  1983-05-07 00:00:00  \n",
       "2  1965-10-07 00:00:00  \n",
       "3  1965-10-07 00:00:00  \n",
       "4  2003-04-29 00:00:00  \n",
       "5  2003-04-29 00:00:00  \n",
       "6  1970-09-05 00:00:00  \n",
       "7  1970-09-05 00:00:00  \n",
       "8  1970-12-15 00:00:00  \n",
       "9  1970-12-15 00:00:00  "
      ]
     },
     "execution_count": 176,
     "metadata": {},
     "output_type": "execute_result"
    }
   ],
   "source": [
    "df.iloc[:10, :10]"
   ]
  },
  {
   "cell_type": "markdown",
   "metadata": {},
   "source": [
    "### Convertir tipos de dato a cadena"
   ]
  },
  {
   "cell_type": "code",
   "execution_count": 177,
   "metadata": {},
   "outputs": [],
   "source": [
    "# ['yes' if v == 1 else 'no' if v == 2 else 'idle' for v in l]"
   ]
  },
  {
   "cell_type": "code",
   "execution_count": 178,
   "metadata": {},
   "outputs": [],
   "source": [
    "def Float_to_string(df, column_index):\n",
    "    columns = df.columns\n",
    "    for ind in column_index:\n",
    "        df[columns[ind]] = df[columns[ind]].fillna('Sin Dato')\n",
    "        df[columns[ind]] = [int(i) if type(i) == float or type(i) == int else i for i in df[columns[ind]]]\n",
    "    return df"
   ]
  },
  {
   "cell_type": "code",
   "execution_count": 179,
   "metadata": {},
   "outputs": [],
   "source": [
    "def Float_to_int(df, columns_index):\n",
    "    def is_float(element):\n",
    "        try:\n",
    "            float(element)\n",
    "            return True\n",
    "        except ValueError:\n",
    "            return False\n",
    "    columns = df.columns\n",
    "    for ind in columns_index:\n",
    "        df[columns[ind]] = df[columns[ind]].fillna(-1)\n",
    "        df[columns[ind]] = [int(str(i).split('.')[0]) if is_float(i) else -1 for i in df[df_columns[ind]]]\n",
    "    return df"
   ]
  },
  {
   "cell_type": "code",
   "execution_count": 180,
   "metadata": {},
   "outputs": [],
   "source": [
    "def Only_date(df, columns_index):\n",
    "#   df['just_date'] = df['dates'].dt.date\n",
    "    columns = df.columns\n",
    "    for ind in columns_index:\n",
    "        df[columns[ind]] = pd.to_datetime(df[columns[ind]])\n",
    "        df[columns[ind]] = df[columns[ind]].dt.date\n",
    "    return df\n"
   ]
  },
  {
   "cell_type": "code",
   "execution_count": 181,
   "metadata": {},
   "outputs": [],
   "source": [
    "columns_ind = [4]\n",
    "\n",
    "df = Float_to_string(df, columns_ind)"
   ]
  },
  {
   "cell_type": "code",
   "execution_count": 182,
   "metadata": {},
   "outputs": [],
   "source": [
    "columns_ind = [0, 1, 2, 11, 12, 13, 14, 15, 16, 17, 18, 19, 20,\n",
    "               21, 22, 23, 24, 25, 26, 27, 28, 34, 35, 36, 37, 38,\n",
    "               39, 40, 41, 42, 43, 44, 45, 46, 47, 48, 54, 57, 59,\n",
    "               60, 61, 70, 71, 74, 77, 79, 81, 83, 85, 86, 88, 89,\n",
    "               90, 92, 94, 95, 97, 98, 101, 102, 113, 114, 115, 116,\n",
    "               117\n",
    "]\n",
    "\n",
    "df = Float_to_int(df, columns_ind)\n"
   ]
  },
  {
   "cell_type": "code",
   "execution_count": 183,
   "metadata": {},
   "outputs": [
    {
     "ename": "OutOfBoundsDatetime",
     "evalue": "Out of bounds nanosecond timestamp: 1595-07-28 00:00:00",
     "output_type": "error",
     "traceback": [
      "\u001b[1;31m---------------------------------------------------------------------------\u001b[0m",
      "\u001b[1;31mTypeError\u001b[0m                                 Traceback (most recent call last)",
      "File \u001b[1;32mc:\\Users\\Personal\\anaconda3\\lib\\site-packages\\pandas\\core\\arrays\\datetimes.py:2211\u001b[0m, in \u001b[0;36mobjects_to_datetime64ns\u001b[1;34m(data, dayfirst, yearfirst, utc, errors, require_iso8601, allow_object, allow_mixed)\u001b[0m\n\u001b[0;32m   2210\u001b[0m \u001b[39mtry\u001b[39;00m:\n\u001b[1;32m-> 2211\u001b[0m     values, tz_parsed \u001b[39m=\u001b[39m conversion\u001b[39m.\u001b[39;49mdatetime_to_datetime64(data\u001b[39m.\u001b[39;49mravel(\u001b[39m\"\u001b[39;49m\u001b[39mK\u001b[39;49m\u001b[39m\"\u001b[39;49m))\n\u001b[0;32m   2212\u001b[0m     \u001b[39m# If tzaware, these values represent unix timestamps, so we\u001b[39;00m\n\u001b[0;32m   2213\u001b[0m     \u001b[39m#  return them as i8 to distinguish from wall times\u001b[39;00m\n",
      "File \u001b[1;32mc:\\Users\\Personal\\anaconda3\\lib\\site-packages\\pandas\\_libs\\tslibs\\conversion.pyx:360\u001b[0m, in \u001b[0;36mpandas._libs.tslibs.conversion.datetime_to_datetime64\u001b[1;34m()\u001b[0m\n",
      "\u001b[1;31mTypeError\u001b[0m: Unrecognized value type: <class 'str'>",
      "\nDuring handling of the above exception, another exception occurred:\n",
      "\u001b[1;31mOutOfBoundsDatetime\u001b[0m                       Traceback (most recent call last)",
      "\u001b[1;32mc:\\Users\\Personal\\Documents\\Projects\\EPS-VALIDATOR-PYTHON-DASH\\main.ipynb Celda 15\u001b[0m in \u001b[0;36m<cell line: 3>\u001b[1;34m()\u001b[0m\n\u001b[0;32m      <a href='vscode-notebook-cell:/c%3A/Users/Personal/Documents/Projects/EPS-VALIDATOR-PYTHON-DASH/main.ipynb#X31sZmlsZQ%3D%3D?line=0'>1</a>\u001b[0m columns_ind \u001b[39m=\u001b[39m [\u001b[39m9\u001b[39m]\n\u001b[1;32m----> <a href='vscode-notebook-cell:/c%3A/Users/Personal/Documents/Projects/EPS-VALIDATOR-PYTHON-DASH/main.ipynb#X31sZmlsZQ%3D%3D?line=2'>3</a>\u001b[0m df \u001b[39m=\u001b[39m Only_date(df, columns_ind)\n",
      "\u001b[1;32mc:\\Users\\Personal\\Documents\\Projects\\EPS-VALIDATOR-PYTHON-DASH\\main.ipynb Celda 15\u001b[0m in \u001b[0;36mOnly_date\u001b[1;34m(df, columns_index)\u001b[0m\n\u001b[0;32m      <a href='vscode-notebook-cell:/c%3A/Users/Personal/Documents/Projects/EPS-VALIDATOR-PYTHON-DASH/main.ipynb#X31sZmlsZQ%3D%3D?line=2'>3</a>\u001b[0m columns \u001b[39m=\u001b[39m df\u001b[39m.\u001b[39mcolumns\n\u001b[0;32m      <a href='vscode-notebook-cell:/c%3A/Users/Personal/Documents/Projects/EPS-VALIDATOR-PYTHON-DASH/main.ipynb#X31sZmlsZQ%3D%3D?line=3'>4</a>\u001b[0m \u001b[39mfor\u001b[39;00m ind \u001b[39min\u001b[39;00m columns_index:\n\u001b[1;32m----> <a href='vscode-notebook-cell:/c%3A/Users/Personal/Documents/Projects/EPS-VALIDATOR-PYTHON-DASH/main.ipynb#X31sZmlsZQ%3D%3D?line=4'>5</a>\u001b[0m     df[columns[ind]] \u001b[39m=\u001b[39m pd\u001b[39m.\u001b[39;49mto_datetime(df[columns[ind]])\n\u001b[0;32m      <a href='vscode-notebook-cell:/c%3A/Users/Personal/Documents/Projects/EPS-VALIDATOR-PYTHON-DASH/main.ipynb#X31sZmlsZQ%3D%3D?line=5'>6</a>\u001b[0m     df[columns[ind]] \u001b[39m=\u001b[39m df[columns[ind]]\u001b[39m.\u001b[39mdt\u001b[39m.\u001b[39mdate\n\u001b[0;32m      <a href='vscode-notebook-cell:/c%3A/Users/Personal/Documents/Projects/EPS-VALIDATOR-PYTHON-DASH/main.ipynb#X31sZmlsZQ%3D%3D?line=6'>7</a>\u001b[0m \u001b[39mreturn\u001b[39;00m df\n",
      "File \u001b[1;32mc:\\Users\\Personal\\anaconda3\\lib\\site-packages\\pandas\\core\\tools\\datetimes.py:1051\u001b[0m, in \u001b[0;36mto_datetime\u001b[1;34m(arg, errors, dayfirst, yearfirst, utc, format, exact, unit, infer_datetime_format, origin, cache)\u001b[0m\n\u001b[0;32m   1049\u001b[0m         result \u001b[39m=\u001b[39m arg\u001b[39m.\u001b[39mmap(cache_array)\n\u001b[0;32m   1050\u001b[0m     \u001b[39melse\u001b[39;00m:\n\u001b[1;32m-> 1051\u001b[0m         values \u001b[39m=\u001b[39m convert_listlike(arg\u001b[39m.\u001b[39;49m_values, \u001b[39mformat\u001b[39;49m)\n\u001b[0;32m   1052\u001b[0m         result \u001b[39m=\u001b[39m arg\u001b[39m.\u001b[39m_constructor(values, index\u001b[39m=\u001b[39marg\u001b[39m.\u001b[39mindex, name\u001b[39m=\u001b[39marg\u001b[39m.\u001b[39mname)\n\u001b[0;32m   1053\u001b[0m \u001b[39melif\u001b[39;00m \u001b[39misinstance\u001b[39m(arg, (ABCDataFrame, abc\u001b[39m.\u001b[39mMutableMapping)):\n",
      "File \u001b[1;32mc:\\Users\\Personal\\anaconda3\\lib\\site-packages\\pandas\\core\\tools\\datetimes.py:402\u001b[0m, in \u001b[0;36m_convert_listlike_datetimes\u001b[1;34m(arg, format, name, tz, unit, errors, infer_datetime_format, dayfirst, yearfirst, exact)\u001b[0m\n\u001b[0;32m    400\u001b[0m \u001b[39massert\u001b[39;00m \u001b[39mformat\u001b[39m \u001b[39mis\u001b[39;00m \u001b[39mNone\u001b[39;00m \u001b[39mor\u001b[39;00m infer_datetime_format\n\u001b[0;32m    401\u001b[0m utc \u001b[39m=\u001b[39m tz \u001b[39m==\u001b[39m \u001b[39m\"\u001b[39m\u001b[39mutc\u001b[39m\u001b[39m\"\u001b[39m\n\u001b[1;32m--> 402\u001b[0m result, tz_parsed \u001b[39m=\u001b[39m objects_to_datetime64ns(\n\u001b[0;32m    403\u001b[0m     arg,\n\u001b[0;32m    404\u001b[0m     dayfirst\u001b[39m=\u001b[39;49mdayfirst,\n\u001b[0;32m    405\u001b[0m     yearfirst\u001b[39m=\u001b[39;49myearfirst,\n\u001b[0;32m    406\u001b[0m     utc\u001b[39m=\u001b[39;49mutc,\n\u001b[0;32m    407\u001b[0m     errors\u001b[39m=\u001b[39;49merrors,\n\u001b[0;32m    408\u001b[0m     require_iso8601\u001b[39m=\u001b[39;49mrequire_iso8601,\n\u001b[0;32m    409\u001b[0m     allow_object\u001b[39m=\u001b[39;49m\u001b[39mTrue\u001b[39;49;00m,\n\u001b[0;32m    410\u001b[0m )\n\u001b[0;32m    412\u001b[0m \u001b[39mif\u001b[39;00m tz_parsed \u001b[39mis\u001b[39;00m \u001b[39mnot\u001b[39;00m \u001b[39mNone\u001b[39;00m:\n\u001b[0;32m    413\u001b[0m     \u001b[39m# We can take a shortcut since the datetime64 numpy array\u001b[39;00m\n\u001b[0;32m    414\u001b[0m     \u001b[39m# is in UTC\u001b[39;00m\n\u001b[0;32m    415\u001b[0m     dta \u001b[39m=\u001b[39m DatetimeArray(result, dtype\u001b[39m=\u001b[39mtz_to_dtype(tz_parsed))\n",
      "File \u001b[1;32mc:\\Users\\Personal\\anaconda3\\lib\\site-packages\\pandas\\core\\arrays\\datetimes.py:2217\u001b[0m, in \u001b[0;36mobjects_to_datetime64ns\u001b[1;34m(data, dayfirst, yearfirst, utc, errors, require_iso8601, allow_object, allow_mixed)\u001b[0m\n\u001b[0;32m   2215\u001b[0m         \u001b[39mreturn\u001b[39;00m values\u001b[39m.\u001b[39mview(\u001b[39m\"\u001b[39m\u001b[39mi8\u001b[39m\u001b[39m\"\u001b[39m), tz_parsed\n\u001b[0;32m   2216\u001b[0m     \u001b[39mexcept\u001b[39;00m (\u001b[39mValueError\u001b[39;00m, \u001b[39mTypeError\u001b[39;00m):\n\u001b[1;32m-> 2217\u001b[0m         \u001b[39mraise\u001b[39;00m err\n\u001b[0;32m   2219\u001b[0m \u001b[39mif\u001b[39;00m tz_parsed \u001b[39mis\u001b[39;00m \u001b[39mnot\u001b[39;00m \u001b[39mNone\u001b[39;00m:\n\u001b[0;32m   2220\u001b[0m     \u001b[39m# We can take a shortcut since the datetime64 numpy array\u001b[39;00m\n\u001b[0;32m   2221\u001b[0m     \u001b[39m#  is in UTC\u001b[39;00m\n\u001b[0;32m   2222\u001b[0m     \u001b[39m# Return i8 values to denote unix timestamps\u001b[39;00m\n\u001b[0;32m   2223\u001b[0m     \u001b[39mreturn\u001b[39;00m result\u001b[39m.\u001b[39mview(\u001b[39m\"\u001b[39m\u001b[39mi8\u001b[39m\u001b[39m\"\u001b[39m), tz_parsed\n",
      "File \u001b[1;32mc:\\Users\\Personal\\anaconda3\\lib\\site-packages\\pandas\\core\\arrays\\datetimes.py:2199\u001b[0m, in \u001b[0;36mobjects_to_datetime64ns\u001b[1;34m(data, dayfirst, yearfirst, utc, errors, require_iso8601, allow_object, allow_mixed)\u001b[0m\n\u001b[0;32m   2197\u001b[0m order: Literal[\u001b[39m\"\u001b[39m\u001b[39mF\u001b[39m\u001b[39m\"\u001b[39m, \u001b[39m\"\u001b[39m\u001b[39mC\u001b[39m\u001b[39m\"\u001b[39m] \u001b[39m=\u001b[39m \u001b[39m\"\u001b[39m\u001b[39mF\u001b[39m\u001b[39m\"\u001b[39m \u001b[39mif\u001b[39;00m flags\u001b[39m.\u001b[39mf_contiguous \u001b[39melse\u001b[39;00m \u001b[39m\"\u001b[39m\u001b[39mC\u001b[39m\u001b[39m\"\u001b[39m\n\u001b[0;32m   2198\u001b[0m \u001b[39mtry\u001b[39;00m:\n\u001b[1;32m-> 2199\u001b[0m     result, tz_parsed \u001b[39m=\u001b[39m tslib\u001b[39m.\u001b[39;49marray_to_datetime(\n\u001b[0;32m   2200\u001b[0m         data\u001b[39m.\u001b[39;49mravel(\u001b[39m\"\u001b[39;49m\u001b[39mK\u001b[39;49m\u001b[39m\"\u001b[39;49m),\n\u001b[0;32m   2201\u001b[0m         errors\u001b[39m=\u001b[39;49merrors,\n\u001b[0;32m   2202\u001b[0m         utc\u001b[39m=\u001b[39;49mutc,\n\u001b[0;32m   2203\u001b[0m         dayfirst\u001b[39m=\u001b[39;49mdayfirst,\n\u001b[0;32m   2204\u001b[0m         yearfirst\u001b[39m=\u001b[39;49myearfirst,\n\u001b[0;32m   2205\u001b[0m         require_iso8601\u001b[39m=\u001b[39;49mrequire_iso8601,\n\u001b[0;32m   2206\u001b[0m         allow_mixed\u001b[39m=\u001b[39;49mallow_mixed,\n\u001b[0;32m   2207\u001b[0m     )\n\u001b[0;32m   2208\u001b[0m     result \u001b[39m=\u001b[39m result\u001b[39m.\u001b[39mreshape(data\u001b[39m.\u001b[39mshape, order\u001b[39m=\u001b[39morder)\n\u001b[0;32m   2209\u001b[0m \u001b[39mexcept\u001b[39;00m \u001b[39mValueError\u001b[39;00m \u001b[39mas\u001b[39;00m err:\n",
      "File \u001b[1;32mc:\\Users\\Personal\\anaconda3\\lib\\site-packages\\pandas\\_libs\\tslib.pyx:381\u001b[0m, in \u001b[0;36mpandas._libs.tslib.array_to_datetime\u001b[1;34m()\u001b[0m\n",
      "File \u001b[1;32mc:\\Users\\Personal\\anaconda3\\lib\\site-packages\\pandas\\_libs\\tslib.pyx:608\u001b[0m, in \u001b[0;36mpandas._libs.tslib.array_to_datetime\u001b[1;34m()\u001b[0m\n",
      "File \u001b[1;32mc:\\Users\\Personal\\anaconda3\\lib\\site-packages\\pandas\\_libs\\tslib.pyx:604\u001b[0m, in \u001b[0;36mpandas._libs.tslib.array_to_datetime\u001b[1;34m()\u001b[0m\n",
      "File \u001b[1;32mc:\\Users\\Personal\\anaconda3\\lib\\site-packages\\pandas\\_libs\\tslib.pyx:580\u001b[0m, in \u001b[0;36mpandas._libs.tslib.array_to_datetime\u001b[1;34m()\u001b[0m\n",
      "File \u001b[1;32mc:\\Users\\Personal\\anaconda3\\lib\\site-packages\\pandas\\_libs\\tslibs\\np_datetime.pyx:120\u001b[0m, in \u001b[0;36mpandas._libs.tslibs.np_datetime.check_dts_bounds\u001b[1;34m()\u001b[0m\n",
      "\u001b[1;31mOutOfBoundsDatetime\u001b[0m: Out of bounds nanosecond timestamp: 1595-07-28 00:00:00"
     ]
    }
   ],
   "source": [
    "columns_ind = [9]\n",
    "\n",
    "df = Only_date(df, columns_ind)"
   ]
  },
  {
   "cell_type": "code",
   "execution_count": null,
   "metadata": {},
   "outputs": [],
   "source": []
  },
  {
   "cell_type": "code",
   "execution_count": null,
   "metadata": {},
   "outputs": [
    {
     "data": {
      "text/plain": [
       "dtype('O')"
      ]
     },
     "execution_count": 161,
     "metadata": {},
     "output_type": "execute_result"
    }
   ],
   "source": [
    "df.iloc[:10, 9].dtype"
   ]
  },
  {
   "cell_type": "code",
   "execution_count": null,
   "metadata": {},
   "outputs": [
    {
     "name": "stdout",
     "output_type": "stream",
     "text": [
      "[8.300e-01 9.980e+02 6.200e-01 0.000e+00 5.800e-01 5.700e-01 3.600e-01\n",
      " 5.600e-01 7.900e-01 7.000e-01 4.100e-01 6.600e-01 7.700e-01 1.250e+00\n",
      " 7.200e-01 7.500e-01 4.700e-01 5.000e-01 8.100e-01 1.390e+00 1.010e+00\n",
      " 1.090e+00 1.100e+00 1.460e+00 8.400e-01 1.260e+00 1.380e+00 1.230e+00\n",
      " 1.290e+00 1.720e+00 1.310e+00 1.150e+00 1.030e+00 1.350e+00 1.690e+00\n",
      " 8.200e-01 1.000e+00 1.070e+00 1.040e+00 9.900e-01 8.600e-01 1.890e+00\n",
      " 1.710e+00 1.270e+00 1.190e+00 1.400e+00 8.800e-01 1.500e+00 1.440e+00\n",
      " 1.180e+00 6.000e-01 9.300e-01 9.400e-01 1.370e+00 1.080e+00 9.100e-01\n",
      " 8.900e-01 9.200e-01 1.930e+00 1.050e+00 1.480e+00 1.650e+00 1.360e+00\n",
      " 1.620e+00 1.420e+00 2.710e+00 1.830e+00 5.680e+00 8.500e-01 9.600e-01\n",
      " 1.660e+00 1.320e+00 1.450e+00 1.130e+00 7.400e-01 3.940e+00 1.200e+00\n",
      " 3.300e+00 3.020e+00 6.900e-01 1.120e+00 1.550e+00 1.170e+00 1.430e+00\n",
      " 9.700e-01 1.210e+00 1.590e+00 1.520e+00 9.500e-01 9.800e-01 1.280e+00\n",
      " 1.140e+00 1.160e+00 1.530e+00 1.140e+01 6.700e-01 2.290e+00 1.330e+00\n",
      " 1.730e+00 1.110e+00 1.470e+00 2.300e+00 1.220e+00 2.280e+00 7.800e-01\n",
      " 1.800e+00 1.870e+00 1.970e+00 8.700e-01 1.600e+00 2.590e+00 1.820e+00\n",
      " 1.700e+00 1.020e+00 1.300e+00 1.810e+00 1.060e+00 2.500e-01 9.000e-01\n",
      " 7.600e-01 1.240e+00 1.410e+00 7.300e-01 1.740e+00 6.800e-01 1.570e+00\n",
      " 8.000e-01 1.560e+00 6.100e-01 2.880e+00 1.920e+00 1.340e+00 1.670e+00\n",
      " 1.580e+00 2.050e+00 2.310e+00 4.390e+00 1.490e+00 7.100e-01 6.500e-01\n",
      " 2.150e+00 3.500e-01 1.510e+00 1.950e+00 3.430e+00 6.300e-01 9.000e-02\n",
      " 1.540e+00 1.680e+00 3.050e+00 7.170e+00 1.840e+00 6.457e+01 4.200e-01\n",
      " 1.100e-01 2.270e+00 1.790e+00 5.500e-01 2.330e+00 2.580e+00 2.790e+00\n",
      " 1.630e+00 6.400e-01 2.830e+00 2.170e+00 2.430e+00 3.600e+00 9.140e-01\n",
      " 1.000e-01 6.000e+00 5.200e-01 5.560e+00 2.900e+00 3.820e+00 3.290e+00\n",
      " 4.170e+00 1.760e+00 3.700e+00 2.130e+00 2.920e+00 3.880e+00 7.180e+00\n",
      " 5.900e-01 5.400e-01 4.600e-01 2.740e+00 1.750e+00 4.400e-01 1.610e+00\n",
      " 5.300e-01 7.050e+00 5.100e-01 4.300e-01 2.030e+00 4.100e+00 3.000e-01\n",
      " 4.900e-01 4.000e-01 3.700e-01 6.400e+00 4.800e-01 1.860e+00 2.700e-01\n",
      " 2.000e+00 1.910e+00 7.100e+01 6.430e+00 4.740e+00 9.150e+00 3.200e-01\n",
      " 1.900e+00 2.660e+00 4.500e-01 3.900e-01 2.400e+00 2.800e-01 2.400e-01\n",
      " 1.300e+01 3.280e+00 2.140e+00 2.500e+00 5.300e+01 1.640e+00 1.980e+00\n",
      " 3.960e+00 2.350e+00 3.800e-01 2.120e+00 7.910e+00 4.770e+00 4.140e+00\n",
      " 3.300e-01 3.550e+00 1.270e+01 6.000e-02 2.490e+00 3.720e+00 3.400e-01\n",
      " 1.310e+01 3.900e+00 2.000e-01 2.900e-01 3.100e-01 6.200e+01 2.300e-01\n",
      " 1.800e-01 2.100e-01]\n"
     ]
    }
   ],
   "source": [
    "valuess = df[df_columns[107]].unique()\n",
    "\n",
    "print(valuess)"
   ]
  },
  {
   "cell_type": "code",
   "execution_count": null,
   "metadata": {},
   "outputs": [],
   "source": [
    "# TODO: Tratamiento de duplicados\n",
    "# TODO: Tratamiento de nombres con caracteres anormales\n",
    "# TODO: Fechas acordes a las reglas\n",
    "# TODO: Funciones de cada columna registrando anormalidades\n"
   ]
  }
 ],
 "metadata": {
  "kernelspec": {
   "display_name": "Python 3",
   "language": "python",
   "name": "python3"
  },
  "language_info": {
   "codemirror_mode": {
    "name": "ipython",
    "version": 3
   },
   "file_extension": ".py",
   "mimetype": "text/x-python",
   "name": "python",
   "nbconvert_exporter": "python",
   "pygments_lexer": "ipython3",
   "version": "3.10.8 (tags/v3.10.8:aaaf517, Oct 11 2022, 16:50:30) [MSC v.1933 64 bit (AMD64)]"
  },
  "orig_nbformat": 4,
  "vscode": {
   "interpreter": {
    "hash": "f487f5f7cc4cbaa642aec8da9232a40c59299215c38e85328ea848e593f80337"
   }
  }
 },
 "nbformat": 4,
 "nbformat_minor": 2
}
